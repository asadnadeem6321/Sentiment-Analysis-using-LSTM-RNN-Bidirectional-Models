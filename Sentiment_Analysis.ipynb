{
 "cells": [
  {
   "cell_type": "markdown",
   "id": "baba02a1-5cbe-47b9-9824-04a1740b2c67",
   "metadata": {
    "tags": []
   },
   "source": [
    "Sentiment Analysis"
   ]
  },
  {
   "cell_type": "markdown",
   "id": "99ca0c22-b945-44d8-ab7a-b9c3cb3df0c9",
   "metadata": {},
   "source": [
    "Importing Required Libraries"
   ]
  },
  {
   "cell_type": "code",
   "execution_count": 1,
   "id": "01fa74a2-5136-4dc0-a071-22f5fdd6f4fa",
   "metadata": {
    "tags": []
   },
   "outputs": [
    {
     "name": "stdout",
     "output_type": "stream",
     "text": [
      "WARNING:tensorflow:From C:\\Users\\Dell\\anaconda3\\Lib\\site-packages\\keras\\src\\losses.py:2976: The name tf.losses.sparse_softmax_cross_entropy is deprecated. Please use tf.compat.v1.losses.sparse_softmax_cross_entropy instead.\n",
      "\n"
     ]
    }
   ],
   "source": [
    "import joblib\n",
    "import numpy as np\n",
    "import pandas as pd\n",
    "from keras.layers import LSTM\n",
    "from keras import preprocessing\n",
    "import matplotlib.pyplot as plt\n",
    "import sklearn.preprocessing as pre\n",
    "from keras.utils import pad_sequences\n",
    "from keras.layers import Flatten, Dense\n",
    "from tensorflow.keras.models import load_model \n",
    "from keras.preprocessing.text import Tokenizer\n",
    "from tensorflow.keras.callbacks import EarlyStopping\n",
    "from keras.layers import Embedding, Bidirectional, Dropout"
   ]
  },
  {
   "cell_type": "markdown",
   "id": "b784c4a5-94ca-4d38-9167-8efc03714807",
   "metadata": {},
   "source": [
    "Loading DataSet"
   ]
  },
  {
   "cell_type": "code",
   "execution_count": 2,
   "id": "58dde925-1443-4e1f-8703-d0d2824837f7",
   "metadata": {
    "tags": []
   },
   "outputs": [
    {
     "data": {
      "text/html": [
       "<div>\n",
       "<style scoped>\n",
       "    .dataframe tbody tr th:only-of-type {\n",
       "        vertical-align: middle;\n",
       "    }\n",
       "\n",
       "    .dataframe tbody tr th {\n",
       "        vertical-align: top;\n",
       "    }\n",
       "\n",
       "    .dataframe thead th {\n",
       "        text-align: right;\n",
       "    }\n",
       "</style>\n",
       "<table border=\"1\" class=\"dataframe\">\n",
       "  <thead>\n",
       "    <tr style=\"text-align: right;\">\n",
       "      <th></th>\n",
       "      <th>review</th>\n",
       "      <th>sentiment</th>\n",
       "    </tr>\n",
       "  </thead>\n",
       "  <tbody>\n",
       "    <tr>\n",
       "      <th>0</th>\n",
       "      <td>One of the other reviewers has mentioned that ...</td>\n",
       "      <td>positive</td>\n",
       "    </tr>\n",
       "    <tr>\n",
       "      <th>1</th>\n",
       "      <td>A wonderful little production. &lt;br /&gt;&lt;br /&gt;The...</td>\n",
       "      <td>positive</td>\n",
       "    </tr>\n",
       "    <tr>\n",
       "      <th>2</th>\n",
       "      <td>I thought this was a wonderful way to spend ti...</td>\n",
       "      <td>positive</td>\n",
       "    </tr>\n",
       "    <tr>\n",
       "      <th>3</th>\n",
       "      <td>Basically there's a family where a little boy ...</td>\n",
       "      <td>negative</td>\n",
       "    </tr>\n",
       "    <tr>\n",
       "      <th>4</th>\n",
       "      <td>Petter Mattei's \"Love in the Time of Money\" is...</td>\n",
       "      <td>positive</td>\n",
       "    </tr>\n",
       "  </tbody>\n",
       "</table>\n",
       "</div>"
      ],
      "text/plain": [
       "                                              review sentiment\n",
       "0  One of the other reviewers has mentioned that ...  positive\n",
       "1  A wonderful little production. <br /><br />The...  positive\n",
       "2  I thought this was a wonderful way to spend ti...  positive\n",
       "3  Basically there's a family where a little boy ...  negative\n",
       "4  Petter Mattei's \"Love in the Time of Money\" is...  positive"
      ]
     },
     "execution_count": 2,
     "metadata": {},
     "output_type": "execute_result"
    }
   ],
   "source": [
    "data = pd.read_csv(\"train.csv\")\n",
    "data.head(5)"
   ]
  },
  {
   "cell_type": "markdown",
   "id": "a3259b28-8281-4394-8917-f3fd40da2830",
   "metadata": {},
   "source": [
    "Separating the values of X and Y"
   ]
  },
  {
   "cell_type": "code",
   "execution_count": 3,
   "id": "66bf337f-c86e-442a-9425-48a56c1d78eb",
   "metadata": {
    "tags": []
   },
   "outputs": [],
   "source": [
    "x = data.iloc[:50000, 0]\n",
    "y = data.iloc[:50000, 1]"
   ]
  },
  {
   "cell_type": "markdown",
   "id": "41144313-cd0f-433f-9372-e8875ab797a7",
   "metadata": {},
   "source": [
    "Applying Tokenization"
   ]
  },
  {
   "cell_type": "code",
   "execution_count": 4,
   "id": "97e48f8f-d12b-42ed-b1be-b0747e1a3d1c",
   "metadata": {
    "tags": []
   },
   "outputs": [],
   "source": [
    "tokenizer = Tokenizer(num_words = 4800)\n",
    "tokenizer.fit_on_texts(x)"
   ]
  },
  {
   "cell_type": "code",
   "execution_count": 6,
   "id": "9167641f-4c41-4421-9b03-267c39778bea",
   "metadata": {
    "tags": []
   },
   "outputs": [
    {
     "data": {
      "text/plain": [
       "array([[ 954,  183,    1, ...,  125, 4103,  486],\n",
       "       [  45,   29,    1, ..., 1977,   69,  221],\n",
       "       [1026,  220,  230, ...,   63,   16,  350],\n",
       "       ...,\n",
       "       [   9,  200,   26, ..., 1957,    2,    2],\n",
       "       [ 144,   16,   47, ...,   67,  739,   42],\n",
       "       [  49,   14,   47, ...,  794,   11,   17]])"
      ]
     },
     "execution_count": 6,
     "metadata": {},
     "output_type": "execute_result"
    }
   ],
   "source": [
    "sequences = tokenizer.texts_to_sequences(x)\n",
    "maxlen = 100\n",
    "x = pad_sequences(sequences, maxlen = 100)\n",
    "x"
   ]
  },
  {
   "cell_type": "markdown",
   "id": "b072cf0b-2f42-4a82-a1e8-4694c69e5239",
   "metadata": {},
   "source": [
    "Applying One Hot Encoder to convert Categorical Columns into Numerical Columns"
   ]
  },
  {
   "cell_type": "code",
   "execution_count": 10,
   "id": "25f71ef8-a4f1-4e21-8821-6db9e9c8f0ac",
   "metadata": {
    "tags": []
   },
   "outputs": [
    {
     "data": {
      "text/plain": [
       "array([[0., 1.],\n",
       "       [0., 1.],\n",
       "       [0., 1.],\n",
       "       ...,\n",
       "       [1., 0.],\n",
       "       [1., 0.],\n",
       "       [1., 0.]])"
      ]
     },
     "execution_count": 10,
     "metadata": {},
     "output_type": "execute_result"
    }
   ],
   "source": [
    "binr = pre.OneHotEncoder()\n",
    "y = binr.fit_transform(np.c_[y]).toarray()\n",
    "y"
   ]
  },
  {
   "cell_type": "code",
   "execution_count": 11,
   "id": "a396eedb-62ae-4d8b-8a58-1effaf34c647",
   "metadata": {
    "tags": []
   },
   "outputs": [],
   "source": [
    "early_stopping = EarlyStopping(\n",
    "    monitor = \"val_loss\",\n",
    "    patience = 8,\n",
    "    restore_best_weights = True\n",
    "    )"
   ]
  },
  {
   "cell_type": "markdown",
   "id": "ed50e253-5ab0-4746-801d-05b191d3c23e",
   "metadata": {},
   "source": [
    "Training The Model"
   ]
  },
  {
   "cell_type": "code",
   "execution_count": 13,
   "id": "5b227dc7-64a4-4f0b-bf94-d15eb3829785",
   "metadata": {
    "tags": []
   },
   "outputs": [
    {
     "name": "stdout",
     "output_type": "stream",
     "text": [
      "WARNING:tensorflow:From C:\\Users\\Dell\\anaconda3\\Lib\\site-packages\\keras\\src\\backend.py:873: The name tf.get_default_graph is deprecated. Please use tf.compat.v1.get_default_graph instead.\n",
      "\n",
      "WARNING:tensorflow:From C:\\Users\\Dell\\anaconda3\\Lib\\site-packages\\keras\\src\\optimizers\\__init__.py:309: The name tf.train.Optimizer is deprecated. Please use tf.compat.v1.train.Optimizer instead.\n",
      "\n"
     ]
    }
   ],
   "source": [
    "from keras.models import Sequential\n",
    "model = Sequential()\n",
    "model.add(Embedding(4800,8))\n",
    "model.add(Dropout(0.3))\n",
    "model.add(Bidirectional(LSTM(8, return_sequences=True)))\n",
    "model.add(Dropout(0.3))\n",
    "model.add(LSTM(8))\n",
    "model.add(Dropout(0.4))\n",
    "model.add(Dropout(0.2))\n",
    "model.add(Dense(2, activation=\"softmax\"))\n",
    "model.compile(optimizer=\"rmsprop\", loss=\"binary_crossentropy\", metrics=[\"acc\"])"
   ]
  },
  {
   "cell_type": "code",
   "execution_count": 15,
   "id": "f0fb3525-7aae-48d0-8f54-8015a34bfd9c",
   "metadata": {
    "tags": []
   },
   "outputs": [
    {
     "name": "stdout",
     "output_type": "stream",
     "text": [
      "Epoch 1/20\n",
      "WARNING:tensorflow:From C:\\Users\\Dell\\anaconda3\\Lib\\site-packages\\keras\\src\\utils\\tf_utils.py:492: The name tf.ragged.RaggedTensorValue is deprecated. Please use tf.compat.v1.ragged.RaggedTensorValue instead.\n",
      "\n",
      "WARNING:tensorflow:From C:\\Users\\Dell\\anaconda3\\Lib\\site-packages\\keras\\src\\engine\\base_layer_utils.py:384: The name tf.executing_eagerly_outside_functions is deprecated. Please use tf.compat.v1.executing_eagerly_outside_functions instead.\n",
      "\n",
      "2000/2000 [==============================] - 145s 67ms/step - loss: 0.5060 - acc: 0.7538 - val_loss: 0.3655 - val_acc: 0.8388\n",
      "Epoch 2/20\n",
      "2000/2000 [==============================] - 178s 89ms/step - loss: 0.3540 - acc: 0.8591 - val_loss: 0.3371 - val_acc: 0.8542\n",
      "Epoch 3/20\n",
      "2000/2000 [==============================] - 164s 82ms/step - loss: 0.3347 - acc: 0.8681 - val_loss: 0.3152 - val_acc: 0.8642\n",
      "Epoch 4/20\n",
      "2000/2000 [==============================] - 172s 86ms/step - loss: 0.3226 - acc: 0.8737 - val_loss: 0.3250 - val_acc: 0.8660\n",
      "Epoch 5/20\n",
      "2000/2000 [==============================] - 188s 94ms/step - loss: 0.3177 - acc: 0.8762 - val_loss: 0.3286 - val_acc: 0.8617\n",
      "Epoch 6/20\n",
      "2000/2000 [==============================] - 153s 76ms/step - loss: 0.3153 - acc: 0.8789 - val_loss: 0.3348 - val_acc: 0.8540\n",
      "Epoch 7/20\n",
      "2000/2000 [==============================] - 171s 86ms/step - loss: 0.3100 - acc: 0.8813 - val_loss: 0.3357 - val_acc: 0.8621\n",
      "Epoch 8/20\n",
      "2000/2000 [==============================] - 182s 91ms/step - loss: 0.3086 - acc: 0.8828 - val_loss: 0.3058 - val_acc: 0.8641\n",
      "Epoch 9/20\n",
      "2000/2000 [==============================] - 158s 79ms/step - loss: 0.3053 - acc: 0.8834 - val_loss: 0.3261 - val_acc: 0.8614\n",
      "Epoch 10/20\n",
      "2000/2000 [==============================] - 206s 103ms/step - loss: 0.3015 - acc: 0.8855 - val_loss: 0.3077 - val_acc: 0.8679\n",
      "Epoch 11/20\n",
      "2000/2000 [==============================] - 197s 99ms/step - loss: 0.2994 - acc: 0.8851 - val_loss: 0.3190 - val_acc: 0.8664\n",
      "Epoch 12/20\n",
      "2000/2000 [==============================] - 218s 109ms/step - loss: 0.3006 - acc: 0.8868 - val_loss: 0.3075 - val_acc: 0.8675\n",
      "Epoch 13/20\n",
      "2000/2000 [==============================] - 225s 113ms/step - loss: 0.2965 - acc: 0.8883 - val_loss: 0.3379 - val_acc: 0.8683\n",
      "Epoch 14/20\n",
      "2000/2000 [==============================] - 188s 94ms/step - loss: 0.2934 - acc: 0.8875 - val_loss: 0.3112 - val_acc: 0.8687\n",
      "Epoch 15/20\n",
      "2000/2000 [==============================] - 197s 99ms/step - loss: 0.2912 - acc: 0.8895 - val_loss: 0.3350 - val_acc: 0.8663\n",
      "Epoch 16/20\n",
      "2000/2000 [==============================] - 203s 102ms/step - loss: 0.2903 - acc: 0.8905 - val_loss: 0.3068 - val_acc: 0.8702\n"
     ]
    }
   ],
   "source": [
    "history = model.fit(x, y, epochs=16, batch_size=20, validation_split = 0.2, callbacks = [early_stopping])"
   ]
  },
  {
   "cell_type": "markdown",
   "id": "84f96ee2-30be-4f46-a408-7a5a1cac1309",
   "metadata": {},
   "source": [
    "Plotting the model"
   ]
  },
  {
   "cell_type": "code",
   "execution_count": 17,
   "id": "ebd3a1b2-53ef-417d-95a3-48ac78eabad2",
   "metadata": {
    "tags": []
   },
   "outputs": [
    {
     "data": {
      "image/png": "[encoded data removed]",
      "text/plain": [
       "<Figure size 1200x600 with 1 Axes>"
      ]
     },
     "metadata": {},
     "output_type": "display_data"
    }
   ],
   "source": [
    "plt.figure(figsize=(12,6))\n",
    "plt.plot(history.history['loss'])\n",
    "plt.plot(history.history['val_loss'])\n",
    "plt.title(\"model loss\"); plt.ylabel('loss'); plt.xlabel(\"epochs\")\n",
    "plt.legend(['train', 'validation'] , loc='upper right')\n",
    "plt.show()"
   ]
  },
  {
   "cell_type": "code",
   "execution_count": 18,
   "id": "024a7f68-8b82-4d31-99f8-e00324ff38c8",
   "metadata": {
    "tags": []
   },
   "outputs": [
    {
     "data": {
      "image/png": "[encoded data removed]",
      "text/plain": [
       "<Figure size 1200x600 with 1 Axes>"
      ]
     },
     "metadata": {},
     "output_type": "display_data"
    }
   ],
   "source": [
    "plt.figure(figsize=(12,6))\n",
    "plt.plot(history.history['acc'])\n",
    "plt.plot(history.history['val_acc'])\n",
    "plt.title(\"model acc\"); plt.ylabel('loss'); plt.xlabel(\"epochs\")\n",
    "plt.legend(['train', 'validation'] , loc='upper right')\n",
    "plt.show()"
   ]
  },
  {
   "cell_type": "markdown",
   "id": "939fef95-126e-4d60-96d7-3362390bafd0",
   "metadata": {},
   "source": [
    "Save the model for Future use."
   ]
  },
  {
   "cell_type": "code",
   "execution_count": 19,
   "id": "f509abc2-ea48-4b00-ba36-654f814ae785",
   "metadata": {
    "tags": []
   },
   "outputs": [
    {
     "name": "stderr",
     "output_type": "stream",
     "text": [
      "C:\\Users\\Dell\\anaconda3\\Lib\\site-packages\\keras\\src\\engine\\training.py:3103: UserWarning: You are saving your model as an HDF5 file via `model.save()`. This file format is considered legacy. We recommend using instead the native Keras format, e.g. `model.save('my_model.keras')`.\n",
      "  saving_api.save_model(\n"
     ]
    }
   ],
   "source": [
    "joblib.dump(tokenizer, 't4.joblib')\n",
    "joblib.dump(binr, 'b4.joblib')\n",
    "joblib.dump = (model, 'm4.joblib')\n",
    "['m4.joblib']\n",
    "model.save(\"m4.h5\")"
   ]
  },
  {
   "cell_type": "markdown",
   "id": "41b5bee1-994f-47cb-862a-18368d6bf040",
   "metadata": {},
   "source": [
    "Loading the trained model."
   ]
  },
  {
   "cell_type": "code",
   "execution_count": 4,
   "id": "bbc076e8-685c-4896-865a-ef4edb906e6d",
   "metadata": {
    "tags": []
   },
   "outputs": [
    {
     "name": "stdout",
     "output_type": "stream",
     "text": [
      "WARNING:tensorflow:From C:\\Users\\Dell\\anaconda3\\Lib\\site-packages\\keras\\src\\backend.py:1398: The name tf.executing_eagerly_outside_functions is deprecated. Please use tf.compat.v1.executing_eagerly_outside_functions instead.\n",
      "\n"
     ]
    }
   ],
   "source": [
    "loaded_tokenizer = joblib.load('t4.joblib')\n",
    "loaded_binr = joblib.load('b4.joblib')\n",
    "loaded_model = load_model('m4.h5')"
   ]
  },
  {
   "cell_type": "markdown",
   "id": "2c2d8fd8-577a-414d-bdbd-6faf1957ea75",
   "metadata": {},
   "source": [
    "Finally Test the model on Comments"
   ]
  },
  {
   "cell_type": "code",
   "execution_count": 5,
   "id": "81034faf-9338-41cb-a453-228196c66898",
   "metadata": {
    "tags": []
   },
   "outputs": [
    {
     "name": "stdout",
     "output_type": "stream",
     "text": [
      "[[10, 235, 673, 5, 77, 11, 1146, 18, 10, 235, 21, 4117, 4, 1, 4, 11, 1146]]\n"
     ]
    }
   ],
   "source": [
    "input_text = \"I am happy to do this project but I am not satisfied of the performnace of this project \"\n",
    "input_sequence = loaded_tokenizer.texts_to_sequences([input_text])\n",
    "print(input_sequence)"
   ]
  },
  {
   "cell_type": "code",
   "execution_count": 6,
   "id": "4e171ba5-9add-498b-aaa0-d837759637cd",
   "metadata": {
    "tags": []
   },
   "outputs": [
    {
     "name": "stdout",
     "output_type": "stream",
     "text": [
      "1/1 [==============================] - 3s 3s/step\n",
      "[['negative']]\n"
     ]
    }
   ],
   "source": [
    "input_paded = pad_sequences(input_sequence , maxlen=90)\n",
    "predicted_ans = loaded_model.predict(input_paded)\n",
    "predicted_labels = loaded_binr.inverse_transform(predicted_ans)\n",
    "print(predicted_labels)"
   ]
  },
  {
   "cell_type": "code",
   "execution_count": 6,
   "id": "f5e38158-5428-4d98-bc1c-c9f2176fada6",
   "metadata": {
    "tags": []
   },
   "outputs": [
    {
     "name": "stdout",
     "output_type": "stream",
     "text": [
      "[[1, 1146, 6, 765, 485, 18, 10, 235, 4117, 2, 9, 912, 1, 2581, 18, 9, 2170]]\n"
     ]
    }
   ],
   "source": [
    "input_text = \"The Sentiment analysis project is working fine but I am satisfied and it meets the requirements effectively but it creates misunderstandings\"\n",
    "input_sequence = loaded_tokenizer.texts_to_sequences([input_text])\n",
    "print(input_sequence)"
   ]
  },
  {
   "cell_type": "code",
   "execution_count": 7,
   "id": "d8ee86e7-c4b7-47a9-94e3-d1d5300107e4",
   "metadata": {
    "tags": []
   },
   "outputs": [
    {
     "name": "stdout",
     "output_type": "stream",
     "text": [
      "1/1 [==============================] - 0s 73ms/step\n",
      "[['positive']]\n"
     ]
    }
   ],
   "source": [
    "input_paded = pad_sequences(input_sequence , maxlen=90)\n",
    "predicted_ans = loaded_model.predict(input_paded)\n",
    "predicted_labels = loaded_binr.inverse_transform(predicted_ans)\n",
    "print(predicted_labels)"
   ]
  },
  {
   "cell_type": "code",
   "execution_count": null,
   "id": "346af70c-9a03-41b5-893d-a3df9fe25f93",
   "metadata": {},
   "outputs": [],
   "source": []
  }
 ],
 "metadata": {
  "kernelspec": {
   "display_name": "Python 3 (ipykernel)",
   "language": "python",
   "name": "python3"
  },
  "language_info": {
   "codemirror_mode": {
    "name": "ipython",
    "version": 3
   },
   "file_extension": ".py",
   "mimetype": "text/x-python",
   "name": "python",
   "nbconvert_exporter": "python",
   "pygments_lexer": "ipython3",
   "version": "3.11.5"
  }
 },
 "nbformat": 4,
 "nbformat_minor": 5
}
